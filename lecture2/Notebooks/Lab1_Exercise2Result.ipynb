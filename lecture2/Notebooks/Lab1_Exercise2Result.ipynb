{
 "cells": [
  {
   "cell_type": "code",
   "execution_count": null,
   "id": "11d7f232",
   "metadata": {},
   "outputs": [],
   "source": [
    "import matplotlib.pyplot as plt\n",
    "import matplotlib.image as mpimg"
   ]
  },
  {
   "cell_type": "code",
   "execution_count": null,
   "id": "6044b6a4",
   "metadata": {},
   "outputs": [],
   "source": [
    "fig, ax = plt.subplots(2,3,figsize=(10,5),tight_layout=True,sharey='row')\n",
    "\n",
    "channel = [\"Red\", \"Green\", \"Blue\"]\n",
    "\n",
    "for i in range(3):\n",
    "\n",
    "    img_b = mpimg.imread('Baozi.jpg')[:,:,i]\n",
    "\n",
    "    ax[0,i].set_title(\"baozi image {} channel\".format(channel[i]))\n",
    "    ax[0,i].axis(\"off\")\n",
    "    ax[0,i].imshow(img_b)\n",
    "\n",
    "    mean=img_b.mean()\n",
    "\n",
    "    ax[1,i].set_title(\"Intensity historgram\")\n",
    "    ax[1,i].hist(img_b.ravel(),255)\n",
    "    ax[1,i].axvline(mean, color=\"black\")\n",
    "    ax[1,i].set_xlabel(\"Intensity\")\n",
    "    ax[1,i].set_ylabel(\"Occurrence\")\n",
    "\n",
    "plt.show()\n",
    "plt.close()"
   ]
  },
  {
   "cell_type": "code",
   "execution_count": null,
   "id": "fcd93fc8",
   "metadata": {},
   "outputs": [],
   "source": []
  }
 ],
 "metadata": {
  "kernelspec": {
   "display_name": "Python 3 (ipykernel)",
   "language": "python",
   "name": "python3"
  },
  "language_info": {
   "codemirror_mode": {
    "name": "ipython",
    "version": 3
   },
   "file_extension": ".py",
   "mimetype": "text/x-python",
   "name": "python",
   "nbconvert_exporter": "python",
   "pygments_lexer": "ipython3",
   "version": "3.10.12"
  }
 },
 "nbformat": 4,
 "nbformat_minor": 5
}
